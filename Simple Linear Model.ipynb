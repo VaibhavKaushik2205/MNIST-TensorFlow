{
 "cells": [
  {
   "cell_type": "code",
   "execution_count": 308,
   "metadata": {},
   "outputs": [],
   "source": [
    "import numpy as np\n",
    "import tensorflow as tf\n",
    "import matplotlib.pyplot as plt\n",
    "import pandas\n",
    "import seaborn\n",
    "from sklearn.metrics import confusion_matrix\n",
    "%matplotlib inline\n",
    "import time"
   ]
  },
  {
   "cell_type": "code",
   "execution_count": 309,
   "metadata": {},
   "outputs": [],
   "source": [
    "#Load DATA\n",
    "\n",
    "def loadMNIST( prefix, folder ):\n",
    "    intType = np.dtype( 'int32' ).newbyteorder( '>' )\n",
    "    nMetaDataBytes = 4 * intType.itemsize\n",
    "\n",
    "    data = np.fromfile( folder + \"/\" + prefix + '-images-idx3-ubyte', dtype = 'ubyte' )\n",
    "    magicBytes, nImages, width, height = np.frombuffer( data[:nMetaDataBytes].tobytes(), intType )\n",
    "    data = data[nMetaDataBytes:].astype( dtype = 'float32' ).reshape( [ nImages, width, height ] )\n",
    "\n",
    "    labels = np.fromfile( folder + \"/\" + prefix + '-labels-idx1-ubyte',\n",
    "                          dtype = 'ubyte' )[2 * intType.itemsize:]\n",
    "\n",
    "    return data, labels\n",
    "\n",
    "train_x, train_y_cls = loadMNIST( \"train\", \"../Simple Linear Model/MNIST_data\" )\n",
    "test_x, test_y_cls = loadMNIST( \"t10k\", \"../Simple Linear Model/MNIST_data\" )"
   ]
  },
  {
   "cell_type": "code",
   "execution_count": 310,
   "metadata": {},
   "outputs": [],
   "source": [
    "#Convert labels to One-Hot Encoding\n",
    "\n",
    "def toHotEncoding( classification ):\n",
    "    # emulates the functionality of tf.keras.utils.to_categorical( y )\n",
    "    hotEncoding = np.zeros( [ len( classification ), \n",
    "                              np.max( classification ) + 1 ] )\n",
    "    hotEncoding[ np.arange( len( hotEncoding ) ), classification ] = 1\n",
    "    return hotEncoding\n",
    "\n",
    "train_y = toHotEncoding( train_y_cls )\n",
    "test_y = toHotEncoding( test_y_cls )"
   ]
  },
  {
   "cell_type": "code",
   "execution_count": 311,
   "metadata": {},
   "outputs": [],
   "source": [
    "#Data info\n",
    "img_size = 28*28\n",
    "num_classes = 10\n",
    "\n",
    "train_x = train_x.reshape(-1,784)\n",
    "test_x = test_x.reshape(-1,784)"
   ]
  },
  {
   "cell_type": "code",
   "execution_count": 312,
   "metadata": {},
   "outputs": [],
   "source": [
    "#TensorFlow Graph\n",
    "\n",
    "#PlaceHolder Variables\n",
    "x = tf.placeholder(tf.float32, [None, img_size])\n",
    "y_true = tf.placeholder(tf.float32, [None,num_classes])\n",
    "y_true_cls = tf.placeholder(tf.int64, [None])\n",
    "\n",
    "#Variables to be Optimized\n",
    "weights = tf.Variable(tf.zeros([img_size,num_classes]))\n",
    "biases = tf.Variable(tf.zeros([num_classes]))\n"
   ]
  },
  {
   "cell_type": "code",
   "execution_count": 313,
   "metadata": {},
   "outputs": [],
   "source": [
    "#Model\n",
    "\n",
    "logits = tf.matmul(x,weights) + biases\n",
    "y_pred = tf.nn.softmax(logits)\n",
    "y_pred_cls = tf.argmax(y_pred, axis=1)\n",
    "#Loss\n",
    "cross_entropy = tf.nn.softmax_cross_entropy_with_logits(logits = logits,\n",
    "                                                       labels = y_true)\n",
    "#Cost\n",
    "cost = tf.reduce_mean(cross_entropy)"
   ]
  },
  {
   "cell_type": "code",
   "execution_count": 314,
   "metadata": {},
   "outputs": [],
   "source": [
    "#Optimizer\n",
    "optimizer = tf.train.AdamOptimizer(learning_rate = 0.3).minimize(cost)\n",
    "\n",
    "#Performance_metric\n",
    "correct_pred = tf.equal(y_pred_cls,y_true_cls)\n",
    "accuracy = tf.reduce_mean(tf.cast(correct_pred, tf.float32))"
   ]
  },
  {
   "cell_type": "code",
   "execution_count": 315,
   "metadata": {},
   "outputs": [],
   "source": [
    "#TensorFlow Run\n",
    "\n",
    "features_placeholder = tf.placeholder(tf.float32, [None, img_size])\n",
    "labels_placeholder = tf.placeholder(train_y.dtype, [None,num_classes])\n",
    "#labels_true_cls = tf.placeholder(tf.int64, [None])\n",
    "\n",
    "session = tf.Session()\n",
    "session.run(tf.global_variables_initializer())\n",
    "\n",
    "#Function for optimization\n",
    "batch_size = 128\n",
    "\n",
    "def optimize(num_iterations):\n",
    "    for i in range(num_iterations):\n",
    "        feed_dict_train = {x: train_x,\n",
    "                           y_true: train_y}\n",
    "        session.run(optimizer, feed_dict= feed_dict_train)\n"
   ]
  },
  {
   "cell_type": "code",
   "execution_count": 316,
   "metadata": {},
   "outputs": [
    {
     "data": {
      "text/plain": [
       "{<tf.Tensor 'Placeholder_61:0' shape=(?, 784) dtype=float32>: array([[0., 0., 0., ..., 0., 0., 0.],\n",
       "        [0., 0., 0., ..., 0., 0., 0.],\n",
       "        [0., 0., 0., ..., 0., 0., 0.],\n",
       "        ...,\n",
       "        [0., 0., 0., ..., 0., 0., 0.],\n",
       "        [0., 0., 0., ..., 0., 0., 0.],\n",
       "        [0., 0., 0., ..., 0., 0., 0.]], dtype=float32),\n",
       " <tf.Tensor 'Placeholder_62:0' shape=(?, 10) dtype=float32>: array([[0., 0., 0., ..., 1., 0., 0.],\n",
       "        [0., 0., 1., ..., 0., 0., 0.],\n",
       "        [0., 1., 0., ..., 0., 0., 0.],\n",
       "        ...,\n",
       "        [0., 0., 0., ..., 0., 0., 0.],\n",
       "        [0., 0., 0., ..., 0., 0., 0.],\n",
       "        [0., 0., 0., ..., 0., 0., 0.]]),\n",
       " <tf.Tensor 'Placeholder_63:0' shape=(?,) dtype=int64>: array([7, 2, 1, ..., 4, 5, 6], dtype=uint8)}"
      ]
     },
     "execution_count": 316,
     "metadata": {},
     "output_type": "execute_result"
    }
   ],
   "source": [
    "#Feed_dict_test\n",
    "feed_dict_test={x: test_x,\n",
    "                y_true: test_y,\n",
    "                y_true_cls: test_y_cls}\n",
    "feed_dict_test"
   ]
  },
  {
   "cell_type": "code",
   "execution_count": 317,
   "metadata": {},
   "outputs": [],
   "source": [
    "#Performance\n",
    "def print_accuracy():\n",
    "    # Use TensorFlow to compute the accuracy.\n",
    "    acc = session.run(accuracy, feed_dict=feed_dict_test)\n",
    "    \n",
    "    # Print the accuracy.\n",
    "    print(\"Accuracy on test-set: {0:.1%}\".format(acc))\n"
   ]
  },
  {
   "cell_type": "code",
   "execution_count": 318,
   "metadata": {},
   "outputs": [
    {
     "name": "stdout",
     "output_type": "stream",
     "text": [
      "Accuracy on test-set: 9.8%\n"
     ]
    }
   ],
   "source": [
    "#Accuracy without any optimisation\n",
    "print_accuracy()"
   ]
  },
  {
   "cell_type": "code",
   "execution_count": 319,
   "metadata": {},
   "outputs": [],
   "source": [
    "#Performance after 1 Optimisation\n",
    "start_time = time.time()\n",
    "\n",
    "optimize(1)\n",
    "\n",
    "end_time = time.time()\n",
    "print (\"--- %s seconds ---\" % (start_time-end_time))"
   ]
  },
  {
   "cell_type": "code",
   "execution_count": 320,
   "metadata": {},
   "outputs": [
    {
     "name": "stdout",
     "output_type": "stream",
     "text": [
      "Accuracy on test-set: 63.7%\n"
     ]
    }
   ],
   "source": [
    "print_accuracy()"
   ]
  },
  {
   "cell_type": "code",
   "execution_count": 321,
   "metadata": {},
   "outputs": [
    {
     "name": "stdout",
     "output_type": "stream",
     "text": [
      "--- -16.891024112701416 seconds ---\n"
     ]
    }
   ],
   "source": [
    "#Performance after 100 Optimisation\n",
    "start_time = time.time()\n",
    "\n",
    "optimize(100)\n",
    "\n",
    "end_time = time.time()\n",
    "print (\"--- %s seconds ---\" % (start_time-end_time))"
   ]
  },
  {
   "cell_type": "code",
   "execution_count": 322,
   "metadata": {},
   "outputs": [
    {
     "name": "stdout",
     "output_type": "stream",
     "text": [
      "Accuracy on test-set: 88.1%\n"
     ]
    }
   ],
   "source": [
    "print_accuracy()"
   ]
  },
  {
   "cell_type": "code",
   "execution_count": 323,
   "metadata": {},
   "outputs": [
    {
     "name": "stdout",
     "output_type": "stream",
     "text": [
      "--- -167.42712211608887 seconds ---\n"
     ]
    }
   ],
   "source": [
    "#Performance after 1000 Optimisation (We have already performed 100 iterations)\n",
    "start_time = time.time()\n",
    "\n",
    "optimize(900)\n",
    "\n",
    "end_time = time.time()\n",
    "print (\"--- %s seconds ---\" % (start_time-end_time))"
   ]
  },
  {
   "cell_type": "code",
   "execution_count": 324,
   "metadata": {},
   "outputs": [
    {
     "name": "stdout",
     "output_type": "stream",
     "text": [
      "Accuracy on test-set: 81.7%\n"
     ]
    }
   ],
   "source": [
    "print_accuracy()"
   ]
  },
  {
   "cell_type": "code",
   "execution_count": 325,
   "metadata": {},
   "outputs": [],
   "source": [
    "session.close()"
   ]
  },
  {
   "cell_type": "code",
   "execution_count": null,
   "metadata": {},
   "outputs": [],
   "source": []
  }
 ],
 "metadata": {
  "kernelspec": {
   "display_name": "Python 3",
   "language": "python",
   "name": "python3"
  },
  "language_info": {
   "codemirror_mode": {
    "name": "ipython",
    "version": 3
   },
   "file_extension": ".py",
   "mimetype": "text/x-python",
   "name": "python",
   "nbconvert_exporter": "python",
   "pygments_lexer": "ipython3",
   "version": "3.6.7"
  }
 },
 "nbformat": 4,
 "nbformat_minor": 2
}
